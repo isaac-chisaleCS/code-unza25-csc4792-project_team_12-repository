{
  "nbformat": 4,
  "nbformat_minor": 0,
  "metadata": {
    "colab": {
      "provenance": [],
      "include_colab_link": true
    },
    "kernelspec": {
      "name": "python3",
      "display_name": "Python 3"
    },
    "language_info": {
      "name": "python"
    }
  },
  "cells": [
    {
      "cell_type": "markdown",
      "metadata": {
        "id": "view-in-github",
        "colab_type": "text"
      },
      "source": [
        "<a href=\"https://colab.research.google.com/github/isaac-chisaleCS/code-unza25-csc4792-project_team_12-repository/blob/main/code_unza25_csc4792_project_team_12_notebook.ipynb\" target=\"_parent\"><img src=\"https://colab.research.google.com/assets/colab-badge.svg\" alt=\"Open In Colab\"/></a>"
      ]
    },
    {
      "cell_type": "code",
      "execution_count": null,
      "metadata": {
        "id": "XjZoNg_5Hdae"
      },
      "outputs": [],
      "source": []
    },
    {
      "cell_type": "markdown",
      "source": [
        "#1.Business Understanding\n"
      ],
      "metadata": {
        "id": "cwtXyOapIeCN"
      }
    },
    {
      "cell_type": "markdown",
      "source": [
        "\n",
        "#1.1 Background\n",
        "Legal and legislative documents are essential for promoting civic education, transparency, and the rule\n",
        "of law. However, the volume and complexity of these documents make it difficult for the public,\n",
        "researchers, and policymakers to easily locate and interpret relevant information.\n",
        "The DataLab Research Group at The University of Zambia is investigating the application of data mining\n",
        "techniques to improve the accessibility and organization of such documents.\n",
        "\n",
        "Two major publicly accessible sources of legal and legislative information in Zambia are:\n",
        "*  National Assembly of Zambia – Provides legislative bills, acts, and parliamentary debates.\n",
        "\n",
        "* Zambia Legal Information Institute (ZambiaLII) – Provides court judgments, case summaries, and\n",
        "other legal references.\n",
        "\n",
        "The focus of this project is on court judgments in PDF format. These judgments are written in natural\n",
        "language and cover various categories such as criminal, civil, family, constitutional, and commercial\n",
        "matters. Classifying these judgments automatically would greatly aid legal practitioners, students,\n",
        "journalists, and the public in finding and studying relevant cases.\n"
      ],
      "metadata": {
        "id": "Ll2zp3FQUnXu"
      }
    },
    {
      "cell_type": "code",
      "source": [],
      "metadata": {
        "id": "1RkUSnXNCC2-"
      },
      "execution_count": null,
      "outputs": []
    }
  ]
}